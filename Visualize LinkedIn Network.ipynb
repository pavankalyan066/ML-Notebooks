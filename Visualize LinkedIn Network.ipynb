{
 "cells": [
  {
   "cell_type": "markdown",
   "metadata": {},
   "source": [
    "## Visualize your LinkedIn Network with Python\n",
    "\n",
    "- LinkedIn is an awesome place to connect with all kinds of people from various backgrounds. It’s the place where networking happens.\n",
    "- As an aspiring Data Scientist, I personally use LinkedIn to connect with Data Scientists around the world and find out what their day-to-day looks like, what tools they use, what problems they’re solving, etc. to learn more about the field.\n",
    "\n",
    "- I’ve been using LinkedIn for quite some time now, and connected with quite a few people, and I’ve always been curious about how my connections “look” like, especially what companies they are from, what positions they hold, etc.\n",
    "\n",
    "- On LinkedIn, you only see a list of your connections, so it’s hard to visualize the entire network of your connections.\n",
    "\n",
    "**What’s the best way we can visualize networks? Using graphs!**\n",
    "\n",
    "Graphs are one of the most important data structures that is applied in many real-world events. One of them is social networks.\n",
    "In our case, it won’t be a complex network like the one you see above.\n",
    "What we’ll be doing is creating a network that connects you to all the companies from your connections.\n",
    "\n",
    "### Download data\n",
    "\n",
    "- First, we need the data.\n",
    "- Here’s a step-by-step guide for getting a copy of your data on LinkedIn:\n",
    "- Click on your Me drop down in the homepage\n",
    "- Head over to “Settings & Privacy”\n",
    "- Click on “Get a copy of your data”"
   ]
  },
  {
   "cell_type": "markdown",
   "metadata": {},
   "source": [
    "## Install Dependecies"
   ]
  },
  {
   "cell_type": "code",
   "execution_count": null,
   "metadata": {},
   "outputs": [],
   "source": [
    "!pip install pyjanitor pyvis --quiet"
   ]
  },
  {
   "cell_type": "code",
   "execution_count": null,
   "metadata": {},
   "outputs": [],
   "source": [
    "import pandas as pd\n",
    "import janitor\n",
    "import datetime\n",
    "\n",
    "from IPython.core.display import display, HTML\n",
    "from pyvis import network as net\n",
    "import networkx as nx"
   ]
  },
  {
   "cell_type": "code",
   "execution_count": null,
   "metadata": {},
   "outputs": [],
   "source": [
    "data = pd.read_csv(\"Connections.csv\", skiprows=2)"
   ]
  },
  {
   "cell_type": "code",
   "execution_count": null,
   "metadata": {},
   "outputs": [],
   "source": [
    "data.info()"
   ]
  },
  {
   "cell_type": "markdown",
   "metadata": {},
   "source": [
    "## Cleaning Data"
   ]
  },
  {
   "cell_type": "code",
   "execution_count": null,
   "metadata": {},
   "outputs": [],
   "source": [
    "df = (\n",
    "    data.clean_names() # remove spacing and capitalization\n",
    "    .drop(columns=['first_name', 'last_name', 'email_address']) # drop for privacy\n",
    "    .dropna(subset=['company', 'position']) # drop missing values in company and position\n",
    "    .to_datetime('connected_on', format='%d %b %Y')\n",
    "  )\n",
    "df.head()"
   ]
  },
  {
   "cell_type": "markdown",
   "metadata": {},
   "source": [
    "## EDA"
   ]
  },
  {
   "cell_type": "code",
   "execution_count": null,
   "metadata": {},
   "outputs": [],
   "source": [
    "df['company'].value_counts().head(10).plot(kind=\"barh\").invert_yaxis();"
   ]
  },
  {
   "cell_type": "code",
   "execution_count": null,
   "metadata": {},
   "outputs": [],
   "source": [
    "df['position'].value_counts().head(10).plot(kind=\"barh\").invert_yaxis();"
   ]
  },
  {
   "cell_type": "code",
   "execution_count": null,
   "metadata": {},
   "outputs": [],
   "source": [
    "df['connected_on'].hist(xrot=35, bins=15);"
   ]
  },
  {
   "cell_type": "markdown",
   "metadata": {},
   "source": [
    "##### Remove freelance and self-employed titles"
   ]
  },
  {
   "cell_type": "code",
   "execution_count": null,
   "metadata": {},
   "outputs": [],
   "source": [
    "pattern = \"freelance|self-employed\"\n",
    "df = df[~df['company'].str.contains(pattern, case=False)]"
   ]
  },
  {
   "cell_type": "markdown",
   "metadata": {},
   "source": [
    "#### Aggregate sum of connections for companies"
   ]
  },
  {
   "cell_type": "code",
   "execution_count": null,
   "metadata": {},
   "outputs": [],
   "source": [
    "df_company = df['company'].value_counts().reset_index()\n",
    "df_company.columns = ['company', 'count']\n",
    "df_company = df_company.sort_values(by=\"count\", ascending=False)\n",
    "df_company.head(10)"
   ]
  },
  {
   "cell_type": "markdown",
   "metadata": {},
   "source": [
    "#### Aggregate sum of connections for positions"
   ]
  },
  {
   "cell_type": "code",
   "execution_count": null,
   "metadata": {},
   "outputs": [],
   "source": [
    "df_position = df['position'].value_counts().reset_index()\n",
    "df_position.columns = ['position', 'count']\n",
    "df_position = df_position.sort_values(by=\"count\", ascending=False)\n",
    "df_position.head(10)"
   ]
  },
  {
   "cell_type": "markdown",
   "metadata": {},
   "source": [
    "#### Example of simple network"
   ]
  },
  {
   "cell_type": "code",
   "execution_count": null,
   "metadata": {},
   "outputs": [],
   "source": [
    "nt = net.Network(notebook=True)\n",
    "\n",
    "g = nx.Graph()\n",
    "g.add_node(0, label = \"root\") # intialize yourself as central node\n",
    "g.add_node(1, label = \"Company 1\", size=10, title=\"info1\")\n",
    "g.add_node(2, label = \"Company 2\", size=40, title=\"info2\")\n",
    "g.add_node(3, label = \"Company 3\", size=60, title=\"info3\")\n",
    "g.add_edge(0, 1)\n",
    "g.add_edge(0, 2)\n",
    "g.add_edge(0, 3)\n",
    "\n",
    "nt.from_nx(g)\n",
    "nt.show('nodes.html')\n",
    "# display(HTML('nodes.html'))"
   ]
  },
  {
   "cell_type": "code",
   "execution_count": null,
   "metadata": {},
   "outputs": [],
   "source": [
    "print(f\"number of nodes: {g.number_of_nodes()}\")\n",
    "print(f\"number of edges: {g.number_of_edges()}\")"
   ]
  },
  {
   "cell_type": "code",
   "execution_count": null,
   "metadata": {},
   "outputs": [],
   "source": [
    "for _, row in df_company.head(5).iterrows():\n",
    "    print(row['company'] + \"-\" + str(row['count']))"
   ]
  },
  {
   "cell_type": "code",
   "execution_count": null,
   "metadata": {},
   "outputs": [],
   "source": [
    "print(df_company.shape)\n",
    "df_company_reduced = df_company.loc[df_company['count']>=5]\n",
    "print(df_company_reduced.shape)"
   ]
  },
  {
   "cell_type": "code",
   "execution_count": null,
   "metadata": {},
   "outputs": [],
   "source": [
    "print(df_position.shape)\n",
    "df_position_reduced = df_position.loc[df_position['count']>=5]\n",
    "print(df_position_reduced.shape)"
   ]
  },
  {
   "cell_type": "code",
   "execution_count": null,
   "metadata": {},
   "outputs": [],
   "source": [
    "# initialize graph\n",
    "g = nx.Graph()\n",
    "g.add_node('root') # intialize yourself as central\n",
    "\n",
    "# use iterrows tp iterate through the data frame\n",
    "for _, row in df_company_reduced.iterrows():\n",
    "    # store company name and count\n",
    "    company = row['company']\n",
    "    count = row['count']\n",
    "\n",
    "    title = f\"<b>{company}</b> – {count}\"\n",
    "    positions = set([x for x in df[company == df['company']]['position']])\n",
    "    positions = ''.join('<li>{}</li>'.format(x) for x in positions)\n",
    "\n",
    "    position_list = f\"<ul>{positions}</ul>\"\n",
    "    hover_info = title + position_list\n",
    "\n",
    "    g.add_node(company, size=count*2, title=hover_info, color='#3449eb')\n",
    "    g.add_edge('root', company, color='grey')\n",
    "\n",
    "# generate the graph\n",
    "nt = net.Network(height='700px', width='700px', bgcolor=\"black\", font_color='white')\n",
    "nt.from_nx(g)\n",
    "nt.hrepulsion()\n",
    "# more customization https://tinyurl.com/yf5lvvdm\n",
    "nt.show('company_graph.html')\n",
    "# display(HTML('company_graph.html'))"
   ]
  },
  {
   "cell_type": "code",
   "execution_count": null,
   "metadata": {},
   "outputs": [],
   "source": [
    "# initialize graph\n",
    "g = nx.Graph()\n",
    "g.add_node('root') # intialize yourself as central\n",
    "\n",
    "# use iterrows tp iterate through the data frame\n",
    "for _, row in df_position_reduced.iterrows():\n",
    "    count = f\"{row['count']}\"\n",
    "    position= row['position']\n",
    "  \n",
    "    g.add_node(position, size=count, color='#3449eb', title=count)\n",
    "    g.add_edge('root', position, color='grey')\n",
    "\n",
    "# generate the graph\n",
    "nt = net.Network(height='700px', width='700px', bgcolor=\"black\", font_color='white')\n",
    "nt.from_nx(g)\n",
    "nt.hrepulsion()\n",
    "# more customization https://tinyurl.com/yf5lvvdm\n",
    "nt.show('position_graph.html')\n",
    "# display(HTML('position_graph.html'))"
   ]
  },
  {
   "cell_type": "markdown",
   "metadata": {},
   "source": [
    "Thank you"
   ]
  }
 ],
 "metadata": {
  "kernelspec": {
   "display_name": "Python 3",
   "language": "python",
   "name": "python3"
  },
  "language_info": {
   "codemirror_mode": {
    "name": "ipython",
    "version": 3
   },
   "file_extension": ".py",
   "mimetype": "text/x-python",
   "name": "python",
   "nbconvert_exporter": "python",
   "pygments_lexer": "ipython3",
   "version": "3.8.3"
  }
 },
 "nbformat": 4,
 "nbformat_minor": 4
}
